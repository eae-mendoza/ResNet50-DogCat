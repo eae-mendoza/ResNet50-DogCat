{
 "cells": [
  {
   "cell_type": "code",
   "execution_count": 20,
   "id": "8816a367",
   "metadata": {},
   "outputs": [],
   "source": [
    "# example of using a pre-trained model as a classifier\n",
    "from keras.layers import Input,Lambda,Dense, Flatten, Dropout\n",
    "from keras.models import Model, Sequential\n",
    "from keras.callbacks import ModelCheckpoint\n",
    "from keras.preprocessing.image import load_img, ImageDataGenerator\n",
    "from keras.preprocessing.image import img_to_array\n",
    "from keras.applications.resnet import ResNet50\n",
    "import cv2\n",
    "import numpy as np\n",
    "import tensorflow as tf"
   ]
  },
  {
   "cell_type": "code",
   "execution_count": 2,
   "id": "b19b6a31",
   "metadata": {},
   "outputs": [],
   "source": [
    "#Specify your directories\n",
    "train_dir = 'train_labeled/train'\n",
    "test_dir = 'custom_test'"
   ]
  },
  {
   "cell_type": "code",
   "execution_count": 3,
   "id": "a7276ef8",
   "metadata": {},
   "outputs": [],
   "source": [
    "# Set input size, ResNet50 was built for inputs that are 224 x 224\n",
    "img_size = 224"
   ]
  },
  {
   "cell_type": "code",
   "execution_count": 4,
   "id": "ddfca998",
   "metadata": {},
   "outputs": [],
   "source": [
    "# input_shape = (img_size,img_size,3) -> 224 x 224 x 3 (3 channels for RGB)\n",
    "res = ResNet50(input_shape = (img_size,img_size,3), weights=None, include_top=False)"
   ]
  },
  {
   "cell_type": "code",
   "execution_count": 5,
   "id": "cfda5b0e",
   "metadata": {},
   "outputs": [],
   "source": [
    "# Constructing the model\n",
    "tf.compat.v1.reset_default_graph()\n",
    "model = Sequential() "
   ]
  },
  {
   "cell_type": "code",
   "execution_count": 6,
   "id": "77c03fd1",
   "metadata": {},
   "outputs": [],
   "source": [
    "model.add(res) \n",
    "model.add(Flatten())\n",
    "model.add(Dense(2,activation=('softmax'))) "
   ]
  },
  {
   "cell_type": "code",
   "execution_count": 7,
   "id": "6827cf6c",
   "metadata": {},
   "outputs": [
    {
     "name": "stdout",
     "output_type": "stream",
     "text": [
      "Model: \"sequential\"\n",
      "_________________________________________________________________\n",
      "Layer (type)                 Output Shape              Param #   \n",
      "=================================================================\n",
      "resnet50 (Functional)        (None, 7, 7, 2048)        23587712  \n",
      "_________________________________________________________________\n",
      "flatten (Flatten)            (None, 100352)            0         \n",
      "_________________________________________________________________\n",
      "dense (Dense)                (None, 2)                 200706    \n",
      "=================================================================\n",
      "Total params: 23,788,418\n",
      "Trainable params: 23,735,298\n",
      "Non-trainable params: 53,120\n",
      "_________________________________________________________________\n"
     ]
    }
   ],
   "source": [
    "model.summary()"
   ]
  },
  {
   "cell_type": "code",
   "execution_count": 18,
   "id": "1f375328",
   "metadata": {},
   "outputs": [],
   "source": [
    "model.compile(loss='categorical_crossentropy',optimizer='adam',metrics=['accuracy'])"
   ]
  },
  {
   "cell_type": "code",
   "execution_count": 23,
   "id": "cda73195",
   "metadata": {},
   "outputs": [
    {
     "name": "stdout",
     "output_type": "stream",
     "text": [
      "Found 19999 images belonging to 2 classes.\n",
      "Found 4999 images belonging to 2 classes.\n"
     ]
    }
   ],
   "source": [
    "# Training/Validation pipeline\n",
    "# We use 80% of the labeled data sa training, and 20% as a validation set\n",
    "# We apply data augmentation to prevent ResNet50 from overfitting our relatively\n",
    "# Simple data set\n",
    "train_datagen = ImageDataGenerator(rescale = 1/255, shear_range = 0.2, zoom_range = 0.2, horizontal_flip = True,validation_split = 0.2)\n",
    "\n",
    "training_set = train_datagen.flow_from_directory(train_dir, target_size = (224,224), batch_size = 32, class_mode = 'categorical',subset = 'training')\n",
    "\n",
    "testing_set = train_datagen.flow_from_directory(train_dir, target_size = (224,224), batch_size = 32, class_mode = 'categorical',subset = 'validation')"
   ]
  },
  {
   "cell_type": "code",
   "execution_count": 20,
   "id": "9dfc3a7b",
   "metadata": {},
   "outputs": [
    {
     "name": "stdout",
     "output_type": "stream",
     "text": [
      "Num GPUs Available:  1\n"
     ]
    }
   ],
   "source": [
    "# Check if GPU is available\n",
    "# GPU computation speeds up computation by (at least in my own case) ~ 25 times\n",
    "print(\"Num GPUs Available: \", len(tf.config.list_physical_devices('GPU')))"
   ]
  },
  {
   "cell_type": "code",
   "execution_count": 21,
   "id": "5aa84580",
   "metadata": {},
   "outputs": [
    {
     "name": "stdout",
     "output_type": "stream",
     "text": [
      "Epoch 1/5\n",
      "625/625 [==============================] - 443s 696ms/step - loss: 2.5571 - accuracy: 0.5253 - val_loss: 0.7639 - val_accuracy: 0.5213\n",
      "Epoch 2/5\n",
      "625/625 [==============================] - 457s 731ms/step - loss: 0.8650 - accuracy: 0.5828 - val_loss: 9.3584 - val_accuracy: 0.5341\n",
      "Epoch 3/5\n",
      "625/625 [==============================] - 443s 709ms/step - loss: 0.6823 - accuracy: 0.6294 - val_loss: 0.6172 - val_accuracy: 0.6643\n",
      "Epoch 4/5\n",
      "625/625 [==============================] - 463s 740ms/step - loss: 0.5982 - accuracy: 0.6794 - val_loss: 0.5865 - val_accuracy: 0.6809\n",
      "Epoch 5/5\n",
      "625/625 [==============================] - 420s 672ms/step - loss: 0.5534 - accuracy: 0.7175 - val_loss: 0.6376 - val_accuracy: 0.6795\n"
     ]
    },
    {
     "data": {
      "text/plain": [
       "<keras.callbacks.History at 0x271d0cceca0>"
      ]
     },
     "execution_count": 21,
     "metadata": {},
     "output_type": "execute_result"
    }
   ],
   "source": [
    "# Initial Model fit to see if it's learning\n",
    "model.fit(training_set, epochs=5, validation_data=testing_set)"
   ]
  },
  {
   "cell_type": "code",
   "execution_count": 26,
   "id": "76aa31df",
   "metadata": {},
   "outputs": [],
   "source": [
    "# Setup additional runs\n",
    "# Setup checkpointing so you can run for however many epochs you want, and keras\n",
    "# will save the models that improved validation accuracy\n",
    "filepath=\"weights-improvement-{epoch:02d}-{val_accuracy:.2f}.hdf5\"\n",
    "checkpoint = ModelCheckpoint(filepath, monitor='val_accuracy', verbose=1, save_best_only=True, mode='max')\n",
    "callbacks_list = [checkpoint]"
   ]
  },
  {
   "cell_type": "code",
   "execution_count": 29,
   "id": "74015e8d",
   "metadata": {},
   "outputs": [
    {
     "name": "stdout",
     "output_type": "stream",
     "text": [
      "Epoch 1/10\n",
      "625/625 [==============================] - 392s 627ms/step - loss: 0.1028 - accuracy: 0.9613 - val_loss: 0.2344 - val_accuracy: 0.9216\n",
      "\n",
      "Epoch 00001: val_accuracy did not improve from 0.94299\n",
      "Epoch 2/10\n",
      "625/625 [==============================] - 409s 655ms/step - loss: 0.0968 - accuracy: 0.9648 - val_loss: 0.3083 - val_accuracy: 0.9102\n",
      "\n",
      "Epoch 00002: val_accuracy did not improve from 0.94299\n",
      "Epoch 3/10\n",
      "625/625 [==============================] - 390s 625ms/step - loss: 0.1097 - accuracy: 0.9605 - val_loss: 0.1972 - val_accuracy: 0.9138\n",
      "\n",
      "Epoch 00003: val_accuracy did not improve from 0.94299\n",
      "Epoch 4/10\n",
      "625/625 [==============================] - 386s 618ms/step - loss: 0.0949 - accuracy: 0.9655 - val_loss: 0.2186 - val_accuracy: 0.9436\n",
      "\n",
      "Epoch 00004: val_accuracy improved from 0.94299 to 0.94359, saving model to weights-improvement-04-0.94.hdf5\n",
      "Epoch 5/10\n",
      "625/625 [==============================] - 381s 610ms/step - loss: 0.0967 - accuracy: 0.9656 - val_loss: 0.2442 - val_accuracy: 0.9128\n",
      "\n",
      "Epoch 00005: val_accuracy did not improve from 0.94359\n",
      "Epoch 6/10\n",
      "625/625 [==============================] - 378s 605ms/step - loss: 0.0928 - accuracy: 0.9648 - val_loss: 0.2701 - val_accuracy: 0.8974\n",
      "\n",
      "Epoch 00006: val_accuracy did not improve from 0.94359\n",
      "Epoch 7/10\n",
      "625/625 [==============================] - 377s 603ms/step - loss: 0.0897 - accuracy: 0.9691 - val_loss: 0.1625 - val_accuracy: 0.9362\n",
      "\n",
      "Epoch 00007: val_accuracy did not improve from 0.94359\n",
      "Epoch 8/10\n",
      "625/625 [==============================] - 356s 570ms/step - loss: 0.0965 - accuracy: 0.9662 - val_loss: 0.4837 - val_accuracy: 0.9000\n",
      "\n",
      "Epoch 00008: val_accuracy did not improve from 0.94359\n",
      "Epoch 9/10\n",
      "625/625 [==============================] - 401s 642ms/step - loss: 0.0845 - accuracy: 0.9692 - val_loss: 0.2470 - val_accuracy: 0.9208\n",
      "\n",
      "Epoch 00009: val_accuracy did not improve from 0.94359\n",
      "Epoch 10/10\n",
      "625/625 [==============================] - 393s 628ms/step - loss: 0.0713 - accuracy: 0.9719 - val_loss: 0.2392 - val_accuracy: 0.9164\n",
      "\n",
      "Epoch 00010: val_accuracy did not improve from 0.94359\n"
     ]
    },
    {
     "data": {
      "text/plain": [
       "<keras.callbacks.History at 0x273aaf788b0>"
      ]
     },
     "execution_count": 29,
     "metadata": {},
     "output_type": "execute_result"
    }
   ],
   "source": [
    "# The results here do not directly connect with the results above, I have ran this\n",
    "# cell multiple times, set # of epochs to however many you want at a time\n",
    "model.fit(training_set, epochs=50, validation_data=testing_set,callbacks=callbacks_list)"
   ]
  },
  {
   "cell_type": "code",
   "execution_count": 8,
   "id": "cbc51fe2",
   "metadata": {},
   "outputs": [],
   "source": [
    "from keras.models import load_model\n",
    "model_trained = load_model('weights-improvement-04-0.94.hdf5')"
   ]
  },
  {
   "cell_type": "code",
   "execution_count": 10,
   "id": "b2649f8e",
   "metadata": {},
   "outputs": [],
   "source": [
    "import os\n",
    "\n",
    "\n",
    "def load_image(img_path, show=False):\n",
    "\n",
    "    img = load_img(img_path, target_size=(224, 224))\n",
    "    img_tensor = img_to_array(img)                    # (height, width, channels)\n",
    "    img_tensor = np.expand_dims(img_tensor, axis=0)         # (1, height, width, channels), add a dimension because the model expects this shape: (batch_size, height, width, channels)\n",
    "    img_tensor /= 255.                                      # imshow expects values in the range [0, 1]\n",
    "\n",
    "    if show:\n",
    "        plt.imshow(img_tensor[0])                           \n",
    "        plt.axis('off')\n",
    "        plt.show()\n",
    "    return img_tensor\n"
   ]
  },
  {
   "cell_type": "code",
   "execution_count": 13,
   "id": "0d6a71b9",
   "metadata": {},
   "outputs": [],
   "source": [
    "predict_imgs = []\n",
    "for img in os.listdir(test_dir):\n",
    "    predict_imgs.append(load_image(os.path.join(test_dir,img)))"
   ]
  },
  {
   "cell_type": "code",
   "execution_count": 21,
   "id": "bdedb393",
   "metadata": {},
   "outputs": [
    {
     "data": {
      "image/png": "[encoded data removed]",
      "text/plain": [
       "<Figure size 432x288 with 9 Axes>"
      ]
     },
     "metadata": {
      "needs_background": "light"
     },
     "output_type": "display_data"
    }
   ],
   "source": [
    "import matplotlib.pyplot as plt\n",
    "\n",
    "fig = plt.figure()\n",
    "\n",
    "i=0\n",
    "for img in os.listdir(test_dir):\n",
    "    y = fig.add_subplot(3,4,i+1)\n",
    "    \n",
    "    path = os.path.join(test_dir,img)\n",
    "    orig = np.array(cv2.resize(cv2.imread(path,cv2.IMREAD_GRAYSCALE), (img_size,img_size)))\n",
    "    data = load_image(os.path.join(test_dir,img))\n",
    "    \n",
    "    model_out = model_trained.predict(data)\n",
    "    \n",
    "    if np.argmax(model_out) == 1:\n",
    "        str_label = 'Dog'\n",
    "    else: \n",
    "        str_label = 'Cat'\n",
    "        \n",
    "    y.imshow(orig,cmap='gray')\n",
    "    plt.title(str_label)\n",
    "    y.axes.get_xaxis().set_visible(False)\n",
    "    y.axes.get_yaxis().set_visible(False)\n",
    "    i+=1\n",
    "plt.show()"
   ]
  },
  {
   "cell_type": "code",
   "execution_count": 22,
   "id": "02760314",
   "metadata": {},
   "outputs": [],
   "source": [
    "# Hilariously ResNet50 performed worse (only for my specific test pictures) compared\n",
    "# to my own CNN structure"
   ]
  },
  {
   "cell_type": "code",
   "execution_count": 24,
   "id": "553c5e56",
   "metadata": {},
   "outputs": [
    {
     "name": "stdout",
     "output_type": "stream",
     "text": [
      "157/157 [==============================] - 58s 364ms/step - loss: 0.2322 - accuracy: 0.9418\n"
     ]
    },
    {
     "data": {
      "text/plain": [
       "[0.23224414885044098, 0.941788375377655]"
      ]
     },
     "execution_count": 24,
     "metadata": {},
     "output_type": "execute_result"
    }
   ],
   "source": [
    "# Let's see again ResNet50's model metrics\n",
    "model_trained.evaluate(testing_set)"
   ]
  },
  {
   "cell_type": "code",
   "execution_count": null,
   "id": "af2bbbe0",
   "metadata": {},
   "outputs": [],
   "source": []
  }
 ],
 "metadata": {
  "kernelspec": {
   "display_name": "Python 3",
   "language": "python",
   "name": "python3"
  },
  "language_info": {
   "codemirror_mode": {
    "name": "ipython",
    "version": 3
   },
   "file_extension": ".py",
   "mimetype": "text/x-python",
   "name": "python",
   "nbconvert_exporter": "python",
   "pygments_lexer": "ipython3",
   "version": "3.8.8"
  }
 },
 "nbformat": 4,
 "nbformat_minor": 5
}
